{
 "cells": [
  {
   "cell_type": "code",
   "execution_count": 4,
   "metadata": {},
   "outputs": [],
   "source": [
    "## import packages\n",
    "import tensorflow as tf\n",
    "from tensorflow.keras.models import Sequential\n",
    "from tensorflow.keras.layers import Dense\n",
    "from sklearn.model_selection import train_test_split\n",
    "from sklearn.preprocessing import StandardScaler\n",
    "import numpy as np\n",
    "import pandas as pd"
   ]
  },
  {
   "cell_type": "code",
   "execution_count": 7,
   "metadata": {},
   "outputs": [
    {
     "name": "stdout",
     "output_type": "stream",
     "text": [
      "   cap-diameter  cap-shape  gill-attachment  gill-color  stem-height  \\\n",
      "0          1372          2                2          10     3.807467   \n",
      "1          1461          2                2          10     3.807467   \n",
      "2          1371          2                2          10     3.612496   \n",
      "3          1261          6                2          10     3.787572   \n",
      "4          1305          6                2          10     3.711971   \n",
      "\n",
      "   stem-width  stem-color    season  class  \n",
      "0        1545          11  1.804273      1  \n",
      "1        1557          11  1.804273      1  \n",
      "2        1566          11  1.804273      1  \n",
      "3        1566          11  1.804273      1  \n",
      "4        1464          11  0.943195      1  \n"
     ]
    }
   ],
   "source": [
    "## read in dataset\n",
    "mush_full = pd.read_csv(\"datasets/mushroom_cleaned.csv\")\n",
    "print(mush_full.head())\n",
    "\n",
    "## last column is target variable so...\n",
    "X = mush_full.iloc[:, :-1].values\n",
    "y = mush_full.iloc[:, -1].values\n",
    "\n",
    "# Split the dataset into training and testing sets\n",
    "X_train, X_test, y_train, y_test = train_test_split(\n",
    "    X, y, test_size=0.2, random_state=42\n",
    ")\n",
    "\n",
    "# Standardize the features\n",
    "scaler = StandardScaler()\n",
    "X_train = scaler.fit_transform(X_train)\n",
    "X_test = scaler.transform(X_test)"
   ]
  },
  {
   "cell_type": "code",
   "execution_count": 8,
   "metadata": {},
   "outputs": [
    {
     "name": "stderr",
     "output_type": "stream",
     "text": [
      "c:\\Users\\dvait\\Desktop\\GitRepos\\CWLWDL\\CWL_WDL\\venv\\Lib\\site-packages\\keras\\src\\layers\\core\\dense.py:87: UserWarning: Do not pass an `input_shape`/`input_dim` argument to a layer. When using Sequential models, prefer using an `Input(shape)` object as the first layer in the model instead.\n",
      "  super().__init__(activity_regularizer=activity_regularizer, **kwargs)\n"
     ]
    },
    {
     "name": "stdout",
     "output_type": "stream",
     "text": [
      "Epoch 1/20\n",
      "\u001b[1m1081/1081\u001b[0m \u001b[32m━━━━━━━━━━━━━━━━━━━━\u001b[0m\u001b[37m\u001b[0m \u001b[1m10s\u001b[0m 5ms/step - accuracy: 0.6852 - loss: 0.5785 - val_accuracy: 0.8089 - val_loss: 0.4455\n",
      "Epoch 2/20\n",
      "\u001b[1m1081/1081\u001b[0m \u001b[32m━━━━━━━━━━━━━━━━━━━━\u001b[0m\u001b[37m\u001b[0m \u001b[1m5s\u001b[0m 5ms/step - accuracy: 0.8212 - loss: 0.4148 - val_accuracy: 0.8700 - val_loss: 0.3279\n",
      "Epoch 3/20\n",
      "\u001b[1m1081/1081\u001b[0m \u001b[32m━━━━━━━━━━━━━━━━━━━━\u001b[0m\u001b[37m\u001b[0m \u001b[1m6s\u001b[0m 5ms/step - accuracy: 0.8720 - loss: 0.3166 - val_accuracy: 0.9015 - val_loss: 0.2697\n",
      "Epoch 4/20\n",
      "\u001b[1m1081/1081\u001b[0m \u001b[32m━━━━━━━━━━━━━━━━━━━━\u001b[0m\u001b[37m\u001b[0m \u001b[1m5s\u001b[0m 5ms/step - accuracy: 0.8974 - loss: 0.2602 - val_accuracy: 0.9059 - val_loss: 0.2354\n",
      "Epoch 5/20\n",
      "\u001b[1m1081/1081\u001b[0m \u001b[32m━━━━━━━━━━━━━━━━━━━━\u001b[0m\u001b[37m\u001b[0m \u001b[1m7s\u001b[0m 7ms/step - accuracy: 0.9149 - loss: 0.2251 - val_accuracy: 0.9326 - val_loss: 0.1993\n",
      "Epoch 6/20\n",
      "\u001b[1m1081/1081\u001b[0m \u001b[32m━━━━━━━━━━━━━━━━━━━━\u001b[0m\u001b[37m\u001b[0m \u001b[1m13s\u001b[0m 9ms/step - accuracy: 0.9282 - loss: 0.1963 - val_accuracy: 0.9367 - val_loss: 0.1843\n",
      "Epoch 7/20\n",
      "\u001b[1m1081/1081\u001b[0m \u001b[32m━━━━━━━━━━━━━━━━━━━━\u001b[0m\u001b[37m\u001b[0m \u001b[1m10s\u001b[0m 9ms/step - accuracy: 0.9365 - loss: 0.1749 - val_accuracy: 0.9390 - val_loss: 0.1630\n",
      "Epoch 8/20\n",
      "\u001b[1m1081/1081\u001b[0m \u001b[32m━━━━━━━━━━━━━━━━━━━━\u001b[0m\u001b[37m\u001b[0m \u001b[1m9s\u001b[0m 8ms/step - accuracy: 0.9461 - loss: 0.1561 - val_accuracy: 0.9444 - val_loss: 0.1594\n",
      "Epoch 9/20\n",
      "\u001b[1m1081/1081\u001b[0m \u001b[32m━━━━━━━━━━━━━━━━━━━━\u001b[0m\u001b[37m\u001b[0m \u001b[1m7s\u001b[0m 6ms/step - accuracy: 0.9454 - loss: 0.1488 - val_accuracy: 0.9416 - val_loss: 0.1537\n",
      "Epoch 10/20\n",
      "\u001b[1m1081/1081\u001b[0m \u001b[32m━━━━━━━━━━━━━━━━━━━━\u001b[0m\u001b[37m\u001b[0m \u001b[1m7s\u001b[0m 6ms/step - accuracy: 0.9518 - loss: 0.1352 - val_accuracy: 0.9529 - val_loss: 0.1285\n",
      "Epoch 11/20\n",
      "\u001b[1m1081/1081\u001b[0m \u001b[32m━━━━━━━━━━━━━━━━━━━━\u001b[0m\u001b[37m\u001b[0m \u001b[1m6s\u001b[0m 6ms/step - accuracy: 0.9562 - loss: 0.1268 - val_accuracy: 0.9517 - val_loss: 0.1308\n",
      "Epoch 12/20\n",
      "\u001b[1m1081/1081\u001b[0m \u001b[32m━━━━━━━━━━━━━━━━━━━━\u001b[0m\u001b[37m\u001b[0m \u001b[1m7s\u001b[0m 6ms/step - accuracy: 0.9572 - loss: 0.1178 - val_accuracy: 0.9570 - val_loss: 0.1228\n",
      "Epoch 13/20\n",
      "\u001b[1m1081/1081\u001b[0m \u001b[32m━━━━━━━━━━━━━━━━━━━━\u001b[0m\u001b[37m\u001b[0m \u001b[1m6s\u001b[0m 5ms/step - accuracy: 0.9596 - loss: 0.1149 - val_accuracy: 0.9574 - val_loss: 0.1165\n",
      "Epoch 14/20\n",
      "\u001b[1m1081/1081\u001b[0m \u001b[32m━━━━━━━━━━━━━━━━━━━━\u001b[0m\u001b[37m\u001b[0m \u001b[1m5s\u001b[0m 5ms/step - accuracy: 0.9598 - loss: 0.1086 - val_accuracy: 0.9606 - val_loss: 0.1123\n",
      "Epoch 15/20\n",
      "\u001b[1m1081/1081\u001b[0m \u001b[32m━━━━━━━━━━━━━━━━━━━━\u001b[0m\u001b[37m\u001b[0m \u001b[1m5s\u001b[0m 4ms/step - accuracy: 0.9648 - loss: 0.1019 - val_accuracy: 0.9528 - val_loss: 0.1199\n",
      "Epoch 16/20\n",
      "\u001b[1m1081/1081\u001b[0m \u001b[32m━━━━━━━━━━━━━━━━━━━━\u001b[0m\u001b[37m\u001b[0m \u001b[1m5s\u001b[0m 4ms/step - accuracy: 0.9650 - loss: 0.0979 - val_accuracy: 0.9628 - val_loss: 0.1074\n",
      "Epoch 17/20\n",
      "\u001b[1m1081/1081\u001b[0m \u001b[32m━━━━━━━━━━━━━━━━━━━━\u001b[0m\u001b[37m\u001b[0m \u001b[1m5s\u001b[0m 4ms/step - accuracy: 0.9670 - loss: 0.0920 - val_accuracy: 0.9647 - val_loss: 0.0991\n",
      "Epoch 18/20\n",
      "\u001b[1m1081/1081\u001b[0m \u001b[32m━━━━━━━━━━━━━━━━━━━━\u001b[0m\u001b[37m\u001b[0m \u001b[1m5s\u001b[0m 5ms/step - accuracy: 0.9684 - loss: 0.0878 - val_accuracy: 0.9702 - val_loss: 0.0919\n",
      "Epoch 19/20\n",
      "\u001b[1m1081/1081\u001b[0m \u001b[32m━━━━━━━━━━━━━━━━━━━━\u001b[0m\u001b[37m\u001b[0m \u001b[1m5s\u001b[0m 5ms/step - accuracy: 0.9707 - loss: 0.0828 - val_accuracy: 0.9651 - val_loss: 0.0974\n",
      "Epoch 20/20\n",
      "\u001b[1m1081/1081\u001b[0m \u001b[32m━━━━━━━━━━━━━━━━━━━━\u001b[0m\u001b[37m\u001b[0m \u001b[1m7s\u001b[0m 6ms/step - accuracy: 0.9717 - loss: 0.0817 - val_accuracy: 0.9706 - val_loss: 0.0845\n",
      "\u001b[1m338/338\u001b[0m \u001b[32m━━━━━━━━━━━━━━━━━━━━\u001b[0m\u001b[37m\u001b[0m \u001b[1m1s\u001b[0m 4ms/step - accuracy: 0.9730 - loss: 0.0762\n",
      "Test Accuracy: 0.97\n"
     ]
    }
   ],
   "source": [
    "# Build the neural network model\n",
    "model = Sequential(\n",
    "    [\n",
    "        Dense(64, activation=\"relu\", input_shape=(X_train.shape[1],)),\n",
    "        Dense(32, activation=\"relu\"),\n",
    "        Dense(1, activation=\"sigmoid\"),\n",
    "    ]\n",
    ")\n",
    "\n",
    "# Compile the model\n",
    "model.compile(optimizer=\"adam\", loss=\"binary_crossentropy\", metrics=[\"accuracy\"])\n",
    "\n",
    "# Train the model\n",
    "model.fit(X_train, y_train, epochs=20, batch_size=32, validation_split=0.2)\n",
    "\n",
    "# Evaluate the model on the test set\n",
    "loss, accuracy = model.evaluate(X_test, y_test)\n",
    "print(f\"Test Accuracy: {accuracy:.2f}\")"
   ]
  },
  {
   "cell_type": "code",
   "execution_count": 9,
   "metadata": {},
   "outputs": [
    {
     "name": "stdout",
     "output_type": "stream",
     "text": [
      "Fold Accuracy: 0.74\n",
      "Fold Accuracy: 0.71\n",
      "Fold Accuracy: 0.72\n",
      "Fold Accuracy: 0.70\n",
      "Fold Accuracy: 0.64\n",
      "Average Test Accuracy: 0.70\n"
     ]
    }
   ],
   "source": [
    "## for illustrative purposes, repeat using kfold crossvalidation\n",
    "from sklearn.model_selection import KFold\n",
    "\n",
    "\n",
    "# Define the K-fold Cross Validator\n",
    "kf = KFold(n_splits=5, shuffle=True, random_state=42)\n",
    "\n",
    "\n",
    "# Define the model building function\n",
    "def build_model():\n",
    "    model = Sequential(\n",
    "        [\n",
    "            Dense(64, activation=\"relu\", input_shape=(X.shape[1],)),\n",
    "            Dense(32, activation=\"relu\"),\n",
    "            Dense(1, activation=\"sigmoid\"),\n",
    "        ]\n",
    "    )\n",
    "    model.compile(optimizer=\"adam\", loss=\"binary_crossentropy\", metrics=[\"accuracy\"])\n",
    "    return model\n",
    "\n",
    "\n",
    "# Lists to hold the results of each fold\n",
    "fold_accuracies = []\n",
    "\n",
    "# Perform 5-fold cross-validation\n",
    "for train_index, test_index in kf.split(X):\n",
    "    X_train, X_test = X[train_index], X[test_index]\n",
    "    y_train, y_test = y[train_index], y[test_index]\n",
    "\n",
    "    model = build_model()\n",
    "    model.fit(X_train, y_train, epochs=20, batch_size=32, verbose=0)\n",
    "\n",
    "    # Evaluate the model\n",
    "    loss, accuracy = model.evaluate(X_test, y_test, verbose=0)\n",
    "    fold_accuracies.append(accuracy)\n",
    "    print(f\"Fold Accuracy: {accuracy:.2f}\")\n",
    "\n",
    "# Calculate the average accuracy across all folds\n",
    "average_accuracy = np.mean(fold_accuracies)\n",
    "print(f\"Average Test Accuracy: {average_accuracy:.2f}\")"
   ]
  }
 ],
 "metadata": {
  "kernelspec": {
   "display_name": "venv",
   "language": "python",
   "name": "python3"
  },
  "language_info": {
   "codemirror_mode": {
    "name": "ipython",
    "version": 3
   },
   "file_extension": ".py",
   "mimetype": "text/x-python",
   "name": "python",
   "nbconvert_exporter": "python",
   "pygments_lexer": "ipython3",
   "version": "3.11.5"
  }
 },
 "nbformat": 4,
 "nbformat_minor": 2
}
